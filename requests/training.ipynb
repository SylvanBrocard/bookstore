{
 "cells": [
  {
   "cell_type": "code",
   "execution_count": 1,
   "id": "49065e8f-9b93-4d22-b8ba-90b9799cc873",
   "metadata": {},
   "outputs": [],
   "source": [
    "import requests"
   ]
  },
  {
   "cell_type": "code",
   "execution_count": 26,
   "id": "091f7205-834e-40e3-9abe-fcf94d2a14fc",
   "metadata": {},
   "outputs": [],
   "source": [
    "r = requests.get(\"https://picsum.photos/v2/list?limit=50\")"
   ]
  },
  {
   "cell_type": "code",
   "execution_count": 28,
   "id": "b920c009-0037-4335-9c51-f152196882a8",
   "metadata": {},
   "outputs": [],
   "source": [
    "hard_rs = [img for img in r.json() if 'r' in img[\"author\"].split()[0].lower()]"
   ]
  },
  {
   "cell_type": "code",
   "execution_count": 30,
   "id": "b755500c-7d9a-4724-bf9c-956f2256e458",
   "metadata": {},
   "outputs": [],
   "source": [
    "for img in hard_rs:\n",
    "    r = requests.get(img[\"download_url\"])\n",
    "    with open(img[\"author\"] + \"_\" + img[\"id\"] + \".png\", \"wb\") as file:\n",
    "        file.write(r.content)"
   ]
  },
  {
   "cell_type": "code",
   "execution_count": 142,
   "id": "efcbfcdb-c981-4b77-a432-4c1a5cfac588",
   "metadata": {},
   "outputs": [],
   "source": [
    "files = [('image', ('Alejandro Escamilla_0.png', open(\"Alejandro Escamilla_0.png\", 'rb'), 'image/png'))]\n",
    "p = requests.post(\"http://localhost:8000/api/v1/detection\", files=files, data={\"model\": \"yolov4\"})"
   ]
  },
  {
   "cell_type": "code",
   "execution_count": 143,
   "id": "97f50154-e41e-4fb1-b365-9c8009874738",
   "metadata": {},
   "outputs": [
    {
     "data": {
      "text/plain": [
       "{'description': 'Detected objects',\n",
       " 'predictions': [{'bbox': {'x1': 4519, 'x2': 5041, 'y1': 1803, 'y2': 2360},\n",
       "   'label': 'cup',\n",
       "   'score': '1.00'},\n",
       "  {'bbox': {'x1': 1177, 'x2': 4657, 'y1': 443, 'y2': 3219},\n",
       "   'label': 'laptop',\n",
       "   'score': '1.00'},\n",
       "  {'bbox': {'x1': 387, 'x2': 1441, 'y1': 2572, 'y2': 2984},\n",
       "   'label': 'cell phone',\n",
       "   'score': '0.99'},\n",
       "  {'bbox': {'x1': -26, 'x2': 5701, 'y1': 1488, 'y2': 3817},\n",
       "   'label': 'dining table',\n",
       "   'score': '0.61'},\n",
       "  {'bbox': {'x1': 1373, 'x2': 2916, 'y1': 2787, 'y2': 3387},\n",
       "   'label': 'cell phone',\n",
       "   'score': '0.46'}]}"
      ]
     },
     "execution_count": 143,
     "metadata": {},
     "output_type": "execute_result"
    }
   ],
   "source": [
    "p.json()"
   ]
  },
  {
   "cell_type": "code",
   "execution_count": 137,
   "id": "63fbec2d-f6b3-4cc5-875f-1a107e4625af",
   "metadata": {},
   "outputs": [
    {
     "name": "stdout",
     "output_type": "stream",
     "text": [
      "{\"description\":\"Detected objects\",\"predictions\":[{\"bbox\":{\"x1\":4519,\"x2\":5041,\"y1\":1803,\"y2\":2360},\"label\":\"cup\",\"score\":\"1.00\"},{\"bbox\":{\"x1\":1177,\"x2\":4657,\"y1\":443,\"y2\":3219},\"label\":\"laptop\",\"score\":\"1.00\"},{\"bbox\":{\"x1\":387,\"x2\":1441,\"y1\":2572,\"y2\":2984},\"label\":\"cell phone\",\"score\":\"0.99\"},{\"bbox\":{\"x1\":-26,\"x2\":5701,\"y1\":1488,\"y2\":3817},\"label\":\"dining table\",\"score\":\"0.61\"},{\"bbox\":{\"x1\":1373,\"x2\":2916,\"y1\":2787,\"y2\":3387},\"label\":\"cell phone\",\"score\":\"0.46\"}]}\n"
     ]
    }
   ],
   "source": [
    "!curl -X  POST http://localhost:8000/api/v1/detection \\\n",
    "-F \"model=yolov4\" \\\n",
    "-F \"image=@Alejandro Escamilla_0.png\""
   ]
  }
 ],
 "metadata": {
  "kernelspec": {
   "display_name": "Python [conda env:scrapping]",
   "language": "python",
   "name": "conda-env-scrapping-py"
  },
  "language_info": {
   "codemirror_mode": {
    "name": "ipython",
    "version": 3
   },
   "file_extension": ".py",
   "mimetype": "text/x-python",
   "name": "python",
   "nbconvert_exporter": "python",
   "pygments_lexer": "ipython3",
   "version": "3.8.12"
  }
 },
 "nbformat": 4,
 "nbformat_minor": 5
}
